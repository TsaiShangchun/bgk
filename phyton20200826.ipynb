{
  "nbformat": 4,
  "nbformat_minor": 0,
  "metadata": {
    "colab": {
      "name": "phyton20200826.ipynb",
      "provenance": [],
      "authorship_tag": "ABX9TyNZKp6CJV1E+PnEI1ziZ2O4",
      "include_colab_link": true
    },
    "kernelspec": {
      "name": "python3",
      "display_name": "Python 3"
    }
  },
  "cells": [
    {
      "cell_type": "markdown",
      "metadata": {
        "id": "view-in-github",
        "colab_type": "text"
      },
      "source": [
        "<a href=\"https://colab.research.google.com/github/TsaiShangchun/bgk/blob/master/phyton20200826.ipynb\" target=\"_parent\"><img src=\"https://colab.research.google.com/assets/colab-badge.svg\" alt=\"Open In Colab\"/></a>"
      ]
    },
    {
      "cell_type": "code",
      "metadata": {
        "id": "SE53tX4uVGSK",
        "colab_type": "code",
        "colab": {
          "base_uri": "https://localhost:8080/",
          "height": 51
        },
        "outputId": "4e3c89f7-2fe6-42e8-b379-e4c74e6a9330"
      },
      "source": [
        "x = input('Enter your name:')\n",
        "print('Hello, ' + x)"
      ],
      "execution_count": 1,
      "outputs": [
        {
          "output_type": "stream",
          "text": [
            "Enter your name:bgk\n",
            "Hello, bgk\n"
          ],
          "name": "stdout"
        }
      ]
    },
    {
      "cell_type": "markdown",
      "metadata": {
        "id": "XQQqSLD4ZLc3",
        "colab_type": "text"
      },
      "source": [
        "# 新增區段"
      ]
    },
    {
      "cell_type": "code",
      "metadata": {
        "id": "v7rYNDUZZM60",
        "colab_type": "code",
        "colab": {
          "base_uri": "https://localhost:8080/",
          "height": 34
        },
        "outputId": "f6e41a74-5556-49a3-a6e8-252fbb15ab51"
      },
      "source": [
        "chr(97)\n",
        "\n",
        "chr(66)\n",
        "\n",
        "#ord('a')\n",
        "#print(bin(ord('a')))\n",
        "#oct(ord('a'))\n",
        "print(hex(ord('a')))"
      ],
      "execution_count": 2,
      "outputs": [
        {
          "output_type": "stream",
          "text": [
            "0x61\n"
          ],
          "name": "stdout"
        }
      ]
    }
  ]
}